{
  "cells": [
    {
      "cell_type": "markdown",
      "id": "8968a681-2db1-4840-bb73-7d6c95986825",
      "metadata": {
        "id": "8968a681-2db1-4840-bb73-7d6c95986825"
      },
      "source": [
        "<table style=\"width:100%\">\n",
        "<tr>\n",
        "<td style=\"vertical-align:middle; text-align:left;\">\n",
        "<font size=\"2\">\n",
        "Supplementary code for the <a href=\"http://mng.bz/orYv\">Build a Large Language Model From Scratch</a> book by <a href=\"https://sebastianraschka.com\">Sebastian Raschka</a><br>\n",
        "<br>Code repository: <a href=\"https://github.com/rasbt/LLMs-from-scratch\">https://github.com/rasbt/LLMs-from-scratch</a>\n",
        "</font>\n",
        "</td>\n",
        "<td style=\"vertical-align:middle; text-align:left;\">\n",
        "<a href=\"http://mng.bz/orYv\"><img src=\"https://sebastianraschka.com/images/LLMs-from-scratch-images/cover-small.webp\" width=\"100px\"></a>\n",
        "</td>\n",
        "</tr>\n",
        "</table>"
      ]
    },
    {
      "cell_type": "markdown",
      "id": "8b6e1cdd-b14e-4368-bdbb-9bf7ab821791",
      "metadata": {
        "id": "8b6e1cdd-b14e-4368-bdbb-9bf7ab821791"
      },
      "source": [
        "# Scikit-learn Logistic Regression Model"
      ]
    },
    {
      "cell_type": "code",
      "source": [
        "! [ ! -f download_prepare_dataset.py ] && wget https://raw.githubusercontent.com/giordafrancis/llms_from_scratch/refs/heads/main/ch06/03_bonus_imdb-classification/download_prepare_dataset.py\n"
      ],
      "metadata": {
        "id": "rDRD4z92-inS"
      },
      "execution_count": 1,
      "outputs": [],
      "id": "rDRD4z92-inS"
    },
    {
      "cell_type": "code",
      "execution_count": 2,
      "id": "c2a72242-6197-4bef-aa05-696a152350d5",
      "metadata": {
        "id": "c2a72242-6197-4bef-aa05-696a152350d5",
        "outputId": "157a6460-e7ea-443c-8414-1703626ad16c",
        "colab": {
          "base_uri": "https://localhost:8080/"
        }
      },
      "outputs": [
        {
          "output_type": "stream",
          "name": "stdout",
          "text": [
            "Downloading dataset ...\n",
            "Directory `aclImdb` already exists. Skipping download.\n",
            "Creating data frames ...\n",
            "Partitioning and saving data frames ...\n"
          ]
        }
      ],
      "source": [
        "!python download_prepare_dataset.py"
      ]
    },
    {
      "cell_type": "code",
      "source": [
        "ls"
      ],
      "metadata": {
        "id": "7pAHu-9pAe8H",
        "outputId": "d533261e-4238-4aa2-c73b-fb5cce1e30a1",
        "colab": {
          "base_uri": "https://localhost:8080/"
        }
      },
      "id": "7pAHu-9pAe8H",
      "execution_count": 3,
      "outputs": [
        {
          "output_type": "stream",
          "name": "stdout",
          "text": [
            "\u001b[0m\u001b[01;34maclImdb\u001b[0m/                     download_prepare_dataset.py.1  test.csv\n",
            "aclImdb_v1.tar.gz            download_prepare_dataset.py.2  train.csv\n",
            "download_prepare_dataset.py  \u001b[01;34msample_data\u001b[0m/                   validation.csv\n"
          ]
        }
      ]
    },
    {
      "cell_type": "code",
      "execution_count": 4,
      "id": "69f32433-e19c-4066-b806-8f30b408107f",
      "metadata": {
        "id": "69f32433-e19c-4066-b806-8f30b408107f"
      },
      "outputs": [],
      "source": [
        "import pandas as pd\n",
        "\n",
        "train_df = pd.read_csv(\"train.csv\")\n",
        "val_df = pd.read_csv(\"validation.csv\")\n",
        "test_df = pd.read_csv(\"test.csv\")"
      ]
    },
    {
      "cell_type": "code",
      "execution_count": 5,
      "id": "0808b212-fe91-48d9-80b8-55519f8835d5",
      "metadata": {
        "id": "0808b212-fe91-48d9-80b8-55519f8835d5",
        "outputId": "a09cb9d2-afd0-4242-a8e7-18e2c356eb62",
        "colab": {
          "base_uri": "https://localhost:8080/",
          "height": 206
        }
      },
      "outputs": [
        {
          "output_type": "execute_result",
          "data": {
            "text/plain": [
              "                                                text  label\n",
              "0  The only reason I saw \"Shakedown\" was that it ...      0\n",
              "1  This is absolute drivel, designed to shock and...      0\n",
              "2  Lots of scenes and dialogue are flat-out goofy...      1\n",
              "3  ** and 1/2 stars out of **** Lifeforce is one ...      1\n",
              "4  I learned a thing: you have to take this film ...      1"
            ],
            "text/html": [
              "\n",
              "  <div id=\"df-af7bbbe7-0d95-410a-b46e-b53ff695d37d\" class=\"colab-df-container\">\n",
              "    <div>\n",
              "<style scoped>\n",
              "    .dataframe tbody tr th:only-of-type {\n",
              "        vertical-align: middle;\n",
              "    }\n",
              "\n",
              "    .dataframe tbody tr th {\n",
              "        vertical-align: top;\n",
              "    }\n",
              "\n",
              "    .dataframe thead th {\n",
              "        text-align: right;\n",
              "    }\n",
              "</style>\n",
              "<table border=\"1\" class=\"dataframe\">\n",
              "  <thead>\n",
              "    <tr style=\"text-align: right;\">\n",
              "      <th></th>\n",
              "      <th>text</th>\n",
              "      <th>label</th>\n",
              "    </tr>\n",
              "  </thead>\n",
              "  <tbody>\n",
              "    <tr>\n",
              "      <th>0</th>\n",
              "      <td>The only reason I saw \"Shakedown\" was that it ...</td>\n",
              "      <td>0</td>\n",
              "    </tr>\n",
              "    <tr>\n",
              "      <th>1</th>\n",
              "      <td>This is absolute drivel, designed to shock and...</td>\n",
              "      <td>0</td>\n",
              "    </tr>\n",
              "    <tr>\n",
              "      <th>2</th>\n",
              "      <td>Lots of scenes and dialogue are flat-out goofy...</td>\n",
              "      <td>1</td>\n",
              "    </tr>\n",
              "    <tr>\n",
              "      <th>3</th>\n",
              "      <td>** and 1/2 stars out of **** Lifeforce is one ...</td>\n",
              "      <td>1</td>\n",
              "    </tr>\n",
              "    <tr>\n",
              "      <th>4</th>\n",
              "      <td>I learned a thing: you have to take this film ...</td>\n",
              "      <td>1</td>\n",
              "    </tr>\n",
              "  </tbody>\n",
              "</table>\n",
              "</div>\n",
              "    <div class=\"colab-df-buttons\">\n",
              "\n",
              "  <div class=\"colab-df-container\">\n",
              "    <button class=\"colab-df-convert\" onclick=\"convertToInteractive('df-af7bbbe7-0d95-410a-b46e-b53ff695d37d')\"\n",
              "            title=\"Convert this dataframe to an interactive table.\"\n",
              "            style=\"display:none;\">\n",
              "\n",
              "  <svg xmlns=\"http://www.w3.org/2000/svg\" height=\"24px\" viewBox=\"0 -960 960 960\">\n",
              "    <path d=\"M120-120v-720h720v720H120Zm60-500h600v-160H180v160Zm220 220h160v-160H400v160Zm0 220h160v-160H400v160ZM180-400h160v-160H180v160Zm440 0h160v-160H620v160ZM180-180h160v-160H180v160Zm440 0h160v-160H620v160Z\"/>\n",
              "  </svg>\n",
              "    </button>\n",
              "\n",
              "  <style>\n",
              "    .colab-df-container {\n",
              "      display:flex;\n",
              "      gap: 12px;\n",
              "    }\n",
              "\n",
              "    .colab-df-convert {\n",
              "      background-color: #E8F0FE;\n",
              "      border: none;\n",
              "      border-radius: 50%;\n",
              "      cursor: pointer;\n",
              "      display: none;\n",
              "      fill: #1967D2;\n",
              "      height: 32px;\n",
              "      padding: 0 0 0 0;\n",
              "      width: 32px;\n",
              "    }\n",
              "\n",
              "    .colab-df-convert:hover {\n",
              "      background-color: #E2EBFA;\n",
              "      box-shadow: 0px 1px 2px rgba(60, 64, 67, 0.3), 0px 1px 3px 1px rgba(60, 64, 67, 0.15);\n",
              "      fill: #174EA6;\n",
              "    }\n",
              "\n",
              "    .colab-df-buttons div {\n",
              "      margin-bottom: 4px;\n",
              "    }\n",
              "\n",
              "    [theme=dark] .colab-df-convert {\n",
              "      background-color: #3B4455;\n",
              "      fill: #D2E3FC;\n",
              "    }\n",
              "\n",
              "    [theme=dark] .colab-df-convert:hover {\n",
              "      background-color: #434B5C;\n",
              "      box-shadow: 0px 1px 3px 1px rgba(0, 0, 0, 0.15);\n",
              "      filter: drop-shadow(0px 1px 2px rgba(0, 0, 0, 0.3));\n",
              "      fill: #FFFFFF;\n",
              "    }\n",
              "  </style>\n",
              "\n",
              "    <script>\n",
              "      const buttonEl =\n",
              "        document.querySelector('#df-af7bbbe7-0d95-410a-b46e-b53ff695d37d button.colab-df-convert');\n",
              "      buttonEl.style.display =\n",
              "        google.colab.kernel.accessAllowed ? 'block' : 'none';\n",
              "\n",
              "      async function convertToInteractive(key) {\n",
              "        const element = document.querySelector('#df-af7bbbe7-0d95-410a-b46e-b53ff695d37d');\n",
              "        const dataTable =\n",
              "          await google.colab.kernel.invokeFunction('convertToInteractive',\n",
              "                                                    [key], {});\n",
              "        if (!dataTable) return;\n",
              "\n",
              "        const docLinkHtml = 'Like what you see? Visit the ' +\n",
              "          '<a target=\"_blank\" href=https://colab.research.google.com/notebooks/data_table.ipynb>data table notebook</a>'\n",
              "          + ' to learn more about interactive tables.';\n",
              "        element.innerHTML = '';\n",
              "        dataTable['output_type'] = 'display_data';\n",
              "        await google.colab.output.renderOutput(dataTable, element);\n",
              "        const docLink = document.createElement('div');\n",
              "        docLink.innerHTML = docLinkHtml;\n",
              "        element.appendChild(docLink);\n",
              "      }\n",
              "    </script>\n",
              "  </div>\n",
              "\n",
              "\n",
              "    <div id=\"df-5b2fb150-5cde-41f7-8ac6-b45f1af05b2d\">\n",
              "      <button class=\"colab-df-quickchart\" onclick=\"quickchart('df-5b2fb150-5cde-41f7-8ac6-b45f1af05b2d')\"\n",
              "                title=\"Suggest charts\"\n",
              "                style=\"display:none;\">\n",
              "\n",
              "<svg xmlns=\"http://www.w3.org/2000/svg\" height=\"24px\"viewBox=\"0 0 24 24\"\n",
              "     width=\"24px\">\n",
              "    <g>\n",
              "        <path d=\"M19 3H5c-1.1 0-2 .9-2 2v14c0 1.1.9 2 2 2h14c1.1 0 2-.9 2-2V5c0-1.1-.9-2-2-2zM9 17H7v-7h2v7zm4 0h-2V7h2v10zm4 0h-2v-4h2v4z\"/>\n",
              "    </g>\n",
              "</svg>\n",
              "      </button>\n",
              "\n",
              "<style>\n",
              "  .colab-df-quickchart {\n",
              "      --bg-color: #E8F0FE;\n",
              "      --fill-color: #1967D2;\n",
              "      --hover-bg-color: #E2EBFA;\n",
              "      --hover-fill-color: #174EA6;\n",
              "      --disabled-fill-color: #AAA;\n",
              "      --disabled-bg-color: #DDD;\n",
              "  }\n",
              "\n",
              "  [theme=dark] .colab-df-quickchart {\n",
              "      --bg-color: #3B4455;\n",
              "      --fill-color: #D2E3FC;\n",
              "      --hover-bg-color: #434B5C;\n",
              "      --hover-fill-color: #FFFFFF;\n",
              "      --disabled-bg-color: #3B4455;\n",
              "      --disabled-fill-color: #666;\n",
              "  }\n",
              "\n",
              "  .colab-df-quickchart {\n",
              "    background-color: var(--bg-color);\n",
              "    border: none;\n",
              "    border-radius: 50%;\n",
              "    cursor: pointer;\n",
              "    display: none;\n",
              "    fill: var(--fill-color);\n",
              "    height: 32px;\n",
              "    padding: 0;\n",
              "    width: 32px;\n",
              "  }\n",
              "\n",
              "  .colab-df-quickchart:hover {\n",
              "    background-color: var(--hover-bg-color);\n",
              "    box-shadow: 0 1px 2px rgba(60, 64, 67, 0.3), 0 1px 3px 1px rgba(60, 64, 67, 0.15);\n",
              "    fill: var(--button-hover-fill-color);\n",
              "  }\n",
              "\n",
              "  .colab-df-quickchart-complete:disabled,\n",
              "  .colab-df-quickchart-complete:disabled:hover {\n",
              "    background-color: var(--disabled-bg-color);\n",
              "    fill: var(--disabled-fill-color);\n",
              "    box-shadow: none;\n",
              "  }\n",
              "\n",
              "  .colab-df-spinner {\n",
              "    border: 2px solid var(--fill-color);\n",
              "    border-color: transparent;\n",
              "    border-bottom-color: var(--fill-color);\n",
              "    animation:\n",
              "      spin 1s steps(1) infinite;\n",
              "  }\n",
              "\n",
              "  @keyframes spin {\n",
              "    0% {\n",
              "      border-color: transparent;\n",
              "      border-bottom-color: var(--fill-color);\n",
              "      border-left-color: var(--fill-color);\n",
              "    }\n",
              "    20% {\n",
              "      border-color: transparent;\n",
              "      border-left-color: var(--fill-color);\n",
              "      border-top-color: var(--fill-color);\n",
              "    }\n",
              "    30% {\n",
              "      border-color: transparent;\n",
              "      border-left-color: var(--fill-color);\n",
              "      border-top-color: var(--fill-color);\n",
              "      border-right-color: var(--fill-color);\n",
              "    }\n",
              "    40% {\n",
              "      border-color: transparent;\n",
              "      border-right-color: var(--fill-color);\n",
              "      border-top-color: var(--fill-color);\n",
              "    }\n",
              "    60% {\n",
              "      border-color: transparent;\n",
              "      border-right-color: var(--fill-color);\n",
              "    }\n",
              "    80% {\n",
              "      border-color: transparent;\n",
              "      border-right-color: var(--fill-color);\n",
              "      border-bottom-color: var(--fill-color);\n",
              "    }\n",
              "    90% {\n",
              "      border-color: transparent;\n",
              "      border-bottom-color: var(--fill-color);\n",
              "    }\n",
              "  }\n",
              "</style>\n",
              "\n",
              "      <script>\n",
              "        async function quickchart(key) {\n",
              "          const quickchartButtonEl =\n",
              "            document.querySelector('#' + key + ' button');\n",
              "          quickchartButtonEl.disabled = true;  // To prevent multiple clicks.\n",
              "          quickchartButtonEl.classList.add('colab-df-spinner');\n",
              "          try {\n",
              "            const charts = await google.colab.kernel.invokeFunction(\n",
              "                'suggestCharts', [key], {});\n",
              "          } catch (error) {\n",
              "            console.error('Error during call to suggestCharts:', error);\n",
              "          }\n",
              "          quickchartButtonEl.classList.remove('colab-df-spinner');\n",
              "          quickchartButtonEl.classList.add('colab-df-quickchart-complete');\n",
              "        }\n",
              "        (() => {\n",
              "          let quickchartButtonEl =\n",
              "            document.querySelector('#df-5b2fb150-5cde-41f7-8ac6-b45f1af05b2d button');\n",
              "          quickchartButtonEl.style.display =\n",
              "            google.colab.kernel.accessAllowed ? 'block' : 'none';\n",
              "        })();\n",
              "      </script>\n",
              "    </div>\n",
              "\n",
              "    </div>\n",
              "  </div>\n"
            ],
            "application/vnd.google.colaboratory.intrinsic+json": {
              "type": "dataframe",
              "variable_name": "train_df",
              "summary": "{\n  \"name\": \"train_df\",\n  \"rows\": 35000,\n  \"fields\": [\n    {\n      \"column\": \"text\",\n      \"properties\": {\n        \"dtype\": \"string\",\n        \"num_unique_values\": 34795,\n        \"samples\": [\n          \"I made a promise that if ever I posted a comment that was less than complimentary, then later felt different about it, I would return and make known my change of heart. So far, this is the first time it's happened. <br /><br />I'm really starting to enjoy Hack. Something has clearly changed. The storylines seem to be much stronger. The plot may still be a tad surreal, but the characters have developed so much more depth that a surreal plot can be forgiven. I attribute this to fine acting. <br /><br />Not every show can come charging out of the starting gate a winner. Some need time to pick up speed. I'm glad I kept watching this program, and I really hope it lasts.\",\n          \"Well the reason for seeing it in the cinema was that it was a sneak preview, else I would never have seen this terrible teenage slasher movie. I mean haven't we had enough of this yet? Scream and Scary Movie at least did not take them self serious! The plot sucks, and the acting is the worst I've seen. (Only Godzilla can compare, which is also the only movie that competes in being the worst I've seen in the cinema with this one.)<br /><br />There is so many plot holes in the story, and the girls are so alike, that you don't even now who has been killed, and who has not. (and you don't care.) The only of them I knew in advance was Denise, and she was the most talent less actress I have ever seen in this bad excuse for a movie.<br /><br />Stay as far away from this movie as possible. (2/10)\",\n          \"I agree with what \\\"veinbreaker\\\" wrote with regards to the \\\"Ahhhh\\\" feeling you get at the end of this movie. I absolutely loved the locations they chose to film, the songs were well written and interesting, especially the psychedelic sounding track on which Hans Matheson sings. It's trippy. Nighy was fab in his role, Nail \\\"nailed\\\" it, Beano was the typical drummer, and Rea kept it together. Bruce Robinson was awesome. Helena was a lovely girlfriend. But I felt Juliet Aubrey's performance was gorgeous. The scenes between Aubrey & Robinson killed me! Perfectly played and the music behind the scene was spot on! Too bad not many more musicians have checked this movie out! They ought to!I've told all my musician friends. great quote by Jimmy Nail's character: \\\"it's supposed to be rock & roll, not the Phantom of the f*****g opera!\\\"\"\n        ],\n        \"semantic_type\": \"\",\n        \"description\": \"\"\n      }\n    },\n    {\n      \"column\": \"label\",\n      \"properties\": {\n        \"dtype\": \"number\",\n        \"std\": 0,\n        \"min\": 0,\n        \"max\": 1,\n        \"num_unique_values\": 2,\n        \"samples\": [\n          1,\n          0\n        ],\n        \"semantic_type\": \"\",\n        \"description\": \"\"\n      }\n    }\n  ]\n}"
            }
          },
          "metadata": {},
          "execution_count": 5
        }
      ],
      "source": [
        "train_df.head()"
      ]
    },
    {
      "cell_type": "markdown",
      "id": "fae87bc1-14ca-4f89-8e12-49f77b0ec00d",
      "metadata": {
        "id": "fae87bc1-14ca-4f89-8e12-49f77b0ec00d"
      },
      "source": [
        "## Scikit-learn baseline"
      ]
    },
    {
      "cell_type": "code",
      "execution_count": 6,
      "id": "180318b7-de18-4b05-b84a-ba97c72b9d8e",
      "metadata": {
        "id": "180318b7-de18-4b05-b84a-ba97c72b9d8e"
      },
      "outputs": [],
      "source": [
        "from sklearn.feature_extraction.text import CountVectorizer\n",
        "from sklearn.linear_model import LogisticRegression\n",
        "from sklearn.metrics import accuracy_score"
      ]
    },
    {
      "cell_type": "code",
      "execution_count": 7,
      "id": "25090b7c-f516-4be2-8083-3a7187fe4635",
      "metadata": {
        "id": "25090b7c-f516-4be2-8083-3a7187fe4635"
      },
      "outputs": [],
      "source": [
        "vectorizer = CountVectorizer()\n",
        "\n",
        "X_train = vectorizer.fit_transform(train_df[\"text\"])\n",
        "X_val = vectorizer.transform(val_df[\"text\"])\n",
        "X_test = vectorizer.transform(test_df[\"text\"])\n",
        "\n",
        "y_train, y_val, y_test = train_df[\"label\"], val_df[\"label\"], test_df[\"label\"]"
      ]
    },
    {
      "cell_type": "code",
      "source": [
        "# X_train.toarray().shape"
      ],
      "metadata": {
        "id": "kqI0skcXA1dC"
      },
      "id": "kqI0skcXA1dC",
      "execution_count": 9,
      "outputs": []
    },
    {
      "cell_type": "code",
      "source": [
        "vectorizer.get_feature_names_out().shape"
      ],
      "metadata": {
        "id": "Bykhq9xCBRKM",
        "outputId": "2f3817ea-c398-4ce4-814d-d6d857c0ef2b",
        "colab": {
          "base_uri": "https://localhost:8080/"
        }
      },
      "id": "Bykhq9xCBRKM",
      "execution_count": 11,
      "outputs": [
        {
          "output_type": "execute_result",
          "data": {
            "text/plain": [
              "(87870,)"
            ]
          },
          "metadata": {},
          "execution_count": 11
        }
      ]
    },
    {
      "cell_type": "code",
      "execution_count": 12,
      "id": "0247de3a-88f0-4b9c-becd-157baf3acf49",
      "metadata": {
        "id": "0247de3a-88f0-4b9c-becd-157baf3acf49"
      },
      "outputs": [],
      "source": [
        "def eval(model, X_train, y_train, X_val, y_val, X_test, y_test):\n",
        "    # Making predictions\n",
        "    y_pred_train = model.predict(X_train)\n",
        "    y_pred_val = model.predict(X_val)\n",
        "    y_pred_test = model.predict(X_test)\n",
        "\n",
        "    # Calculating accuracy and balanced accuracy\n",
        "    accuracy_train = accuracy_score(y_train, y_pred_train)\n",
        "    # balanced_accuracy_train = balanced_accuracy_score(y_train, y_pred_train)\n",
        "\n",
        "    accuracy_val = accuracy_score(y_val, y_pred_val)\n",
        "    # balanced_accuracy_val = balanced_accuracy_score(y_val, y_pred_val)\n",
        "\n",
        "    accuracy_test = accuracy_score(y_test, y_pred_test)\n",
        "    # balanced_accuracy_test = balanced_accuracy_score(y_test, y_pred_test)\n",
        "\n",
        "    # Printing the results\n",
        "    print(f\"Training Accuracy: {accuracy_train*100:.2f}%\")\n",
        "    print(f\"Validation Accuracy: {accuracy_val*100:.2f}%\")\n",
        "    print(f\"Test Accuracy: {accuracy_test*100:.2f}%\")"
      ]
    },
    {
      "cell_type": "code",
      "execution_count": 13,
      "id": "c29c6dfc-f72d-40ab-8cb5-783aad1a15ab",
      "metadata": {
        "id": "c29c6dfc-f72d-40ab-8cb5-783aad1a15ab",
        "outputId": "413cf9ce-ad80-435c-d326-1ffe37aca827",
        "colab": {
          "base_uri": "https://localhost:8080/"
        }
      },
      "outputs": [
        {
          "output_type": "stream",
          "name": "stdout",
          "text": [
            "Training Accuracy: 50.01%\n",
            "Validation Accuracy: 50.14%\n",
            "Test Accuracy: 49.91%\n"
          ]
        }
      ],
      "source": [
        "from sklearn.dummy import DummyClassifier\n",
        "\n",
        "# Create a dummy classifier with the strategy to predict the most frequent class\n",
        "dummy_clf = DummyClassifier(strategy=\"most_frequent\")\n",
        "dummy_clf.fit(X_train, y_train)\n",
        "\n",
        "eval(dummy_clf, X_train, y_train, X_val, y_val, X_test, y_test)"
      ]
    },
    {
      "cell_type": "code",
      "execution_count": 14,
      "id": "088a8a3a-3b74-4d10-a51b-cb662569ae39",
      "metadata": {
        "id": "088a8a3a-3b74-4d10-a51b-cb662569ae39",
        "outputId": "ea03596c-05f8-48bd-f2f6-8e4de6133541",
        "colab": {
          "base_uri": "https://localhost:8080/"
        }
      },
      "outputs": [
        {
          "output_type": "stream",
          "name": "stdout",
          "text": [
            "Training Accuracy: 99.80%\n",
            "Validation Accuracy: 88.58%\n",
            "Test Accuracy: 88.79%\n"
          ]
        }
      ],
      "source": [
        "model = LogisticRegression(max_iter=1000)\n",
        "model.fit(X_train, y_train)\n",
        "eval(model, X_train, y_train, X_val, y_val, X_test, y_test)"
      ]
    },
    {
      "cell_type": "code",
      "source": [],
      "metadata": {
        "id": "Ck_Dk9FuCtxr"
      },
      "id": "Ck_Dk9FuCtxr",
      "execution_count": null,
      "outputs": []
    }
  ],
  "metadata": {
    "kernelspec": {
      "display_name": "Python 3 (ipykernel)",
      "language": "python",
      "name": "python3"
    },
    "language_info": {
      "codemirror_mode": {
        "name": "ipython",
        "version": 3
      },
      "file_extension": ".py",
      "mimetype": "text/x-python",
      "name": "python",
      "nbconvert_exporter": "python",
      "pygments_lexer": "ipython3",
      "version": "3.10.16"
    },
    "colab": {
      "provenance": []
    }
  },
  "nbformat": 4,
  "nbformat_minor": 5
}